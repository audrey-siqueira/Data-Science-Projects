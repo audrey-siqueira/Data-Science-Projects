{
  "nbformat": 4,
  "nbformat_minor": 0,
  "metadata": {
    "colab": {
      "name": "Random Forest Regression.ipynb",
      "provenance": [],
      "toc_visible": true,
      "mount_file_id": "1w3em0laO-PbI-68ljlcOdwmu58EdPU15",
      "authorship_tag": "ABX9TyMc5a43emF/4/5l/ezU0Pz6",
      "include_colab_link": true
    },
    "kernelspec": {
      "name": "python3",
      "display_name": "Python 3"
    }
  },
  "cells": [
    {
      "cell_type": "markdown",
      "metadata": {
        "id": "view-in-github",
        "colab_type": "text"
      },
      "source": [
        "<a href=\"https://colab.research.google.com/github/audrey-siqueira/Data-Science-Projects/blob/master/Random_Forest_Regression.ipynb\" target=\"_parent\"><img src=\"https://colab.research.google.com/assets/colab-badge.svg\" alt=\"Open In Colab\"/></a>"
      ]
    },
    {
      "cell_type": "markdown",
      "metadata": {
        "id": "8RlgXYa5QEiV",
        "colab_type": "text"
      },
      "source": [
        "# **Salary Prediction using Random Forest Regression**\n",
        "---\n",
        "<p align=\"justify\">\n",
        " A specific company has an internal salary policy according to the position and hierarchy of each employee. For example, when an employee enters the company, he will first enter the level of business analyst, then he will become a junior consultant, senior consultant, etc. Level 10 is the highest in the hierarchy and represents the position of CEO of the company with the highest salary respectively. For each level the company pays a respective salary predetermined in the company's policies.\n",
        "\n",
        " \n",
        "<p align=center>\n",
        "<img src=\"https://drive.google.com/uc?id=1mVYTXFnSftZL_ZtI57MLIidCFYapLNwJ\" width=\"50%\"></p>\n",
        "\n",
        "<p align=\"justify\">\n",
        "The company contacted a candidate for a new job due to its excellent work experience and curriculum. Through interviews with the HR department, this candidate said that he had been working for 2 years in the position of Regent Manager in his previous job and his salary expectation for the new job would be at least equal to his previous job, something equivalent to $160k a year.\n",
        "\n",
        "<p align=\"justify\">\n",
        "First the company wants to know if the position that he worked in his previous job really corresponds to a salary of $160k or if the candidate was bluffing to get a higher salary.\n",
        "\n",
        "<p align=\"justify\">\n",
        "Through internet research on sites such as Glassdoor and Lovemondays, the HR department found out how much the candidate's previous company paid for different positions annually and according to this history the company wants to know if Regent Manager's position really would correspond to $160k a year.\n",
        "\n",
        "<p align=\"justify\">\n",
        "According to the record, the position of Regent Manager corresponds to level 6, however, as the candidate said he had been working for 2 years in this position, the HR department decided to do the calculations and projections considering level 6.5 instead of 6.\n",
        "\n",
        "<p align=\"justify\">\n",
        "The historical data that is important for the HR department are:\n",
        "\n",
        "<p align=\"justify\">\n",
        "-The level in the hierarchy ranging from 1 to 10.\n",
        "<p align=\"justify\">\n",
        "-The salary corresponding to each level.\n",
        "\n",
        "<p align=center>\n",
        "<img src=\"https://drive.google.com/uc?id=1q5wgaLnWA4wpN7QlXarIDZTgqOMTiyZH\" width=\"50%\"></p>\n",
        "\n",
        "<p align=center>\n",
        "<img src=\"https://drive.google.com/uc?id=1ntReGKS2k2ZTQnPz3cR-DZL-59mv5T8K\" width=\"60%\"></p>\n",
        "\n",
        "Then the HR department of the company decided to make a regression with the numbers got in the internet research. They decided to make a **random forest regression**.\n",
        "\n",
        "\n",
        "As the company database is small and has only 10 levels, all data were considered as a Training set, not considering any data for the Test set and already applying the projection to level 6.5 directly. Then it is possible to verify the salary projections using the **random forest regression**.\n",
        "\n",
        "\n",
        "**Code description is explained below:**"
      ]
    },
    {
      "cell_type": "markdown",
      "metadata": {
        "id": "aX2LGDnFTDFk",
        "colab_type": "text"
      },
      "source": [
        "## **Importing the libraries**\n"
      ]
    },
    {
      "cell_type": "markdown",
      "metadata": {
        "id": "74m--yTF9AzV",
        "colab_type": "text"
      },
      "source": [
        "The 3 libraries needed for the project are imported.\n",
        "- Pandas for data manipulation and analysis\n",
        "- Numpy for mathematical operations\n",
        "- Matplotlib for graphical visualizations"
      ]
    },
    {
      "cell_type": "code",
      "metadata": {
        "colab_type": "code",
        "id": "bru5xErJTFNt",
        "colab": {}
      },
      "source": [
        "import numpy as np\n",
        "import matplotlib.pyplot as plt\n",
        "import pandas as pd"
      ],
      "execution_count": null,
      "outputs": []
    },
    {
      "cell_type": "markdown",
      "metadata": {
        "id": "b2E1s3v0TQA4",
        "colab_type": "text"
      },
      "source": [
        "## **Importing the data set**\n"
      ]
    },
    {
      "cell_type": "markdown",
      "metadata": {
        "id": "rRFTUdQ4819Z",
        "colab_type": "text"
      },
      "source": [
        "The .csv file containing his previous company's database is imported.\n",
        "\n",
        "Separating **Level** as the corresponding X-axis values and the **Salary** as Y-axis values, it was obtained final data set..\n",
        "\n",
        "The values of the database header and how they are distributed can be viewed in the image below:"
      ]
    },
    {
      "cell_type": "code",
      "metadata": {
        "id": "bYfBzT_PuvpL",
        "colab_type": "code",
        "colab": {
          "base_uri": "https://localhost:8080/",
          "height": 195
        },
        "outputId": "b93e651d-8502-42f8-db71-3d64f4de812c"
      },
      "source": [
        "dataset= pd.read_csv('/content/drive/My Drive/Colab Notebooks/6-Random Forest Regression/Position_Salaries.csv')\n",
        "X= dataset.iloc[:,1:2].values\n",
        "Y= dataset.iloc[:,2].values\n",
        "dataset.head()"
      ],
      "execution_count": null,
      "outputs": [
        {
          "output_type": "execute_result",
          "data": {
            "text/html": [
              "<div>\n",
              "<style scoped>\n",
              "    .dataframe tbody tr th:only-of-type {\n",
              "        vertical-align: middle;\n",
              "    }\n",
              "\n",
              "    .dataframe tbody tr th {\n",
              "        vertical-align: top;\n",
              "    }\n",
              "\n",
              "    .dataframe thead th {\n",
              "        text-align: right;\n",
              "    }\n",
              "</style>\n",
              "<table border=\"1\" class=\"dataframe\">\n",
              "  <thead>\n",
              "    <tr style=\"text-align: right;\">\n",
              "      <th></th>\n",
              "      <th>Position</th>\n",
              "      <th>Level</th>\n",
              "      <th>Salary</th>\n",
              "    </tr>\n",
              "  </thead>\n",
              "  <tbody>\n",
              "    <tr>\n",
              "      <th>0</th>\n",
              "      <td>Business Analyst</td>\n",
              "      <td>1</td>\n",
              "      <td>45000</td>\n",
              "    </tr>\n",
              "    <tr>\n",
              "      <th>1</th>\n",
              "      <td>Junior Consultant</td>\n",
              "      <td>2</td>\n",
              "      <td>50000</td>\n",
              "    </tr>\n",
              "    <tr>\n",
              "      <th>2</th>\n",
              "      <td>Senior Consultant</td>\n",
              "      <td>3</td>\n",
              "      <td>60000</td>\n",
              "    </tr>\n",
              "    <tr>\n",
              "      <th>3</th>\n",
              "      <td>Manager</td>\n",
              "      <td>4</td>\n",
              "      <td>80000</td>\n",
              "    </tr>\n",
              "    <tr>\n",
              "      <th>4</th>\n",
              "      <td>Country Manager</td>\n",
              "      <td>5</td>\n",
              "      <td>110000</td>\n",
              "    </tr>\n",
              "  </tbody>\n",
              "</table>\n",
              "</div>"
            ],
            "text/plain": [
              "            Position  Level  Salary\n",
              "0   Business Analyst      1   45000\n",
              "1  Junior Consultant      2   50000\n",
              "2  Senior Consultant      3   60000\n",
              "3            Manager      4   80000\n",
              "4    Country Manager      5  110000"
            ]
          },
          "metadata": {
            "tags": []
          },
          "execution_count": 4
        }
      ]
    },
    {
      "cell_type": "markdown",
      "metadata": {
        "colab_type": "text",
        "id": "4ZdoGO_byvVh"
      },
      "source": [
        "## **Fitting the Random Forest model to dataset**\n"
      ]
    },
    {
      "cell_type": "markdown",
      "metadata": {
        "colab_type": "text",
        "id": "wAYXPTVIyvVy"
      },
      "source": [
        "The **sklearn.ensemble** library was used to apply the **Random Forest Regression** method.\n",
        "\n",
        "Using the Training set of X and Y values, a prediction curve is created."
      ]
    },
    {
      "cell_type": "code",
      "metadata": {
        "colab_type": "code",
        "id": "a_iTebHNyvV0",
        "colab": {
          "base_uri": "https://localhost:8080/",
          "height": 134
        },
        "outputId": "7d0d6c30-ee57-4bba-b8e9-e42e4aa441af"
      },
      "source": [
        "from sklearn.ensemble import RandomForestRegressor\n",
        "regressor= RandomForestRegressor(n_estimators=300,random_state=0)\n",
        "regressor.fit(X,Y)\n"
      ],
      "execution_count": null,
      "outputs": [
        {
          "output_type": "execute_result",
          "data": {
            "text/plain": [
              "RandomForestRegressor(bootstrap=True, ccp_alpha=0.0, criterion='mse',\n",
              "                      max_depth=None, max_features='auto', max_leaf_nodes=None,\n",
              "                      max_samples=None, min_impurity_decrease=0.0,\n",
              "                      min_impurity_split=None, min_samples_leaf=1,\n",
              "                      min_samples_split=2, min_weight_fraction_leaf=0.0,\n",
              "                      n_estimators=300, n_jobs=None, oob_score=False,\n",
              "                      random_state=0, verbose=0, warm_start=False)"
            ]
          },
          "metadata": {
            "tags": []
          },
          "execution_count": 5
        }
      ]
    },
    {
      "cell_type": "markdown",
      "metadata": {
        "colab_type": "text",
        "id": "y0BFGg23zz99"
      },
      "source": [
        "## **Visualising the Random Forest Results (Higher Resolution and smoother curve)**\n"
      ]
    },
    {
      "cell_type": "markdown",
      "metadata": {
        "colab_type": "text",
        "id": "yK-vIrClzz-D"
      },
      "source": [
        "A graph was plotted with the real values of **X-axis values VERSUS Y-axis values** (red dots), present in the **Training set**. From these previously mentioned values, the model generated a prediction curve (blue line).\n"
      ]
    },
    {
      "cell_type": "code",
      "metadata": {
        "colab_type": "code",
        "id": "5cSPB7LIzz-F",
        "colab": {
          "base_uri": "https://localhost:8080/",
          "height": 295
        },
        "outputId": "6ebba429-833b-48a5-ec1c-d240ade08d50"
      },
      "source": [
        "X_grid=np.arange(min(X),max(X),0.01)\n",
        "X_grid=X_grid.reshape((len(X_grid),1))\n",
        "plt.scatter(X,Y,color='red')\n",
        "plt.plot(X_grid,regressor.predict(X_grid),color = 'blue')\n",
        "plt.title('Truth or Bluff (Random Forest Regression)')\n",
        "plt.xlabel('Position level')\n",
        "plt.ylabel('Salary')\n",
        "plt.show()\n",
        "\n"
      ],
      "execution_count": null,
      "outputs": [
        {
          "output_type": "display_data",
          "data": {
            "image/png": "[encoded data removed]",
            "text/plain": [
              "<Figure size 432x288 with 1 Axes>"
            ]
          },
          "metadata": {
            "tags": [],
            "needs_background": "light"
          }
        }
      ]
    },
    {
      "cell_type": "markdown",
      "metadata": {
        "colab_type": "text",
        "id": "QicQERcszRAs"
      },
      "source": [
        "## **Predicting a new result with Random Forest Regression**\n"
      ]
    },
    {
      "cell_type": "markdown",
      "metadata": {
        "colab_type": "text",
        "id": "xF4fGszgzRAy"
      },
      "source": [
        "The requested value **Level=6.5** is projected using the Random Forest Regression, giving an output as salary.."
      ]
    },
    {
      "cell_type": "code",
      "metadata": {
        "colab_type": "code",
        "id": "57FyAwQfzRAz",
        "colab": {
          "base_uri": "https://localhost:8080/",
          "height": 34
        },
        "outputId": "6a38a907-fe17-417a-97f8-39a5f5845343"
      },
      "source": [
        "regressor.predict([[6.5]])"
      ],
      "execution_count": null,
      "outputs": [
        {
          "output_type": "execute_result",
          "data": {
            "text/plain": [
              "array([160333.33333333])"
            ]
          },
          "metadata": {
            "tags": []
          },
          "execution_count": 6
        }
      ]
    },
    {
      "cell_type": "markdown",
      "metadata": {
        "colab_type": "text",
        "id": "dsWINsAto7XX"
      },
      "source": [
        "## **Conclusion**"
      ]
    },
    {
      "cell_type": "markdown",
      "metadata": {
        "id": "eIo4yn_KpB9_",
        "colab_type": "text"
      },
      "source": [
        "<p align=\"justify\">\n",
        "The Random Forest model got a forecast around $160k, suggesting that the candidate is not bluffing.\n"
      ]
    }
  ]
}