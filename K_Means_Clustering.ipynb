{
  "nbformat": 4,
  "nbformat_minor": 0,
  "metadata": {
    "colab": {
      "name": "K-Means Clustering.ipynb",
      "provenance": [],
      "toc_visible": true,
      "mount_file_id": "12bwKiTOwylOWHvKmX8cJGLDQzhmRB-Ci",
      "authorship_tag": "ABX9TyPyfW1C9YoI2w77Q0HTIZDg",
      "include_colab_link": true
    },
    "kernelspec": {
      "name": "python3",
      "display_name": "Python 3"
    }
  },
  "cells": [
    {
      "cell_type": "markdown",
      "metadata": {
        "id": "view-in-github",
        "colab_type": "text"
      },
      "source": [
        "<a href=\"https://colab.research.google.com/github/audrey-siqueira/Data-Science-Projects/blob/master/K_Means_Clustering.ipynb\" target=\"_parent\"><img src=\"https://colab.research.google.com/assets/colab-badge.svg\" alt=\"Open In Colab\"/></a>"
      ]
    },
    {
      "cell_type": "markdown",
      "metadata": {
        "id": "r89jL6gYsyyg"
      },
      "source": [
        "# **Grouping Customer using K-Means Clustering**\n",
        "---\n",
        "<p align=\"justify\">\n",
        "The data science department of a shopping mall has a database of its customers. The company wants to know which type of customers have a higher spending potential without the risk of default.\n",
        "\n",
        "<p align=center>\n",
        "<img src=\"https://drive.google.com/uc?id=1vqarT9cWGEv7ZtiqwqC2P-w7lT6PrT-s\" width=\"40%\"></p>\n",
        "\n",
        "<p align=\"justify\">\n",
        "The company department needs to identify the profile of each client taking into account 2 variables: Annual Income and Spending Score. Within these 2 variables it is desired to group users among Careless, Standard, Sensitive, Careful and Targeted.\n",
        "<p align=\"justify\">\n",
        "Knowing this profile, the company wants to intensify its business, targeting people with the variables most likely to buy the products and dont default.\n",
        "\n",
        "\n",
        "The proposed model was the **K-Means Clustering** using the  database, with the values of **Annual Income** and **Spending Score** as  variables.\n",
        "\n",
        "<p align=center>\n",
        "<img src=\"https://drive.google.com/uc?id=1xkCzr-iKh0KVlwjYfajElWK58Jl5HrC6\" width=\"70%\"></p>\n",
        "\n",
        "<p align=\"justify\">\n",
        "The final objective is to classify these users and separate them into groups with common characteristics, facilitating the visualization of the business potential of the shopping mall.\n",
        "\n",
        "\n",
        "\n",
        "\n",
        "**Code description is explained below:**"
      ]
    },
    {
      "cell_type": "markdown",
      "metadata": {
        "id": "aX2LGDnFTDFk"
      },
      "source": [
        "## **Importing the libraries**\n"
      ]
    },
    {
      "cell_type": "markdown",
      "metadata": {
        "id": "74m--yTF9AzV"
      },
      "source": [
        "The 3 libraries needed for the project are imported.\n",
        "- Pandas for data manipulation and analysis\n",
        "- Numpy for mathematical operations\n",
        "- Matplotlib for graphical visualizations"
      ]
    },
    {
      "cell_type": "code",
      "metadata": {
        "id": "bru5xErJTFNt"
      },
      "source": [
        "import numpy as np\n",
        "import matplotlib.pyplot as plt\n",
        "import pandas as pd"
      ],
      "execution_count": null,
      "outputs": []
    },
    {
      "cell_type": "markdown",
      "metadata": {
        "id": "i_EnjWNPhiPI"
      },
      "source": [
        "## **Importing the data set**\n"
      ]
    },
    {
      "cell_type": "markdown",
      "metadata": {
        "id": "waYTSNZGhiPK"
      },
      "source": [
        "The .csv file containing company's database is imported.\n",
        "\n",
        "Separating **Annual Income** as the corresponding X-axis values and the **Spending Score** as Y-axis values, it was obtained final data set.\n",
        "\n",
        "The values of the database header and how they are distributed can be viewed in the image below:"
      ]
    },
    {
      "cell_type": "code",
      "metadata": {
        "id": "w7J8XE23hiPL",
        "outputId": "b3c5d533-5c2b-42db-ec66-fcbed2360bbe",
        "colab": {
          "base_uri": "https://localhost:8080/",
          "height": 195
        }
      },
      "source": [
        "dataset= pd.read_csv('/content/drive/My Drive/Colab Notebooks/Clustering/K-Means Clustering/Mall_Customers.csv')\n",
        "X = dataset.iloc[:, [3, 4]].values\n",
        "dataset.head()"
      ],
      "execution_count": null,
      "outputs": [
        {
          "output_type": "execute_result",
          "data": {
            "text/html": [
              "<div>\n",
              "<style scoped>\n",
              "    .dataframe tbody tr th:only-of-type {\n",
              "        vertical-align: middle;\n",
              "    }\n",
              "\n",
              "    .dataframe tbody tr th {\n",
              "        vertical-align: top;\n",
              "    }\n",
              "\n",
              "    .dataframe thead th {\n",
              "        text-align: right;\n",
              "    }\n",
              "</style>\n",
              "<table border=\"1\" class=\"dataframe\">\n",
              "  <thead>\n",
              "    <tr style=\"text-align: right;\">\n",
              "      <th></th>\n",
              "      <th>CustomerID</th>\n",
              "      <th>Genre</th>\n",
              "      <th>Age</th>\n",
              "      <th>Annual Income (k$)</th>\n",
              "      <th>Spending Score (1-100)</th>\n",
              "    </tr>\n",
              "  </thead>\n",
              "  <tbody>\n",
              "    <tr>\n",
              "      <th>0</th>\n",
              "      <td>1</td>\n",
              "      <td>Male</td>\n",
              "      <td>19</td>\n",
              "      <td>15</td>\n",
              "      <td>39</td>\n",
              "    </tr>\n",
              "    <tr>\n",
              "      <th>1</th>\n",
              "      <td>2</td>\n",
              "      <td>Male</td>\n",
              "      <td>21</td>\n",
              "      <td>15</td>\n",
              "      <td>81</td>\n",
              "    </tr>\n",
              "    <tr>\n",
              "      <th>2</th>\n",
              "      <td>3</td>\n",
              "      <td>Female</td>\n",
              "      <td>20</td>\n",
              "      <td>16</td>\n",
              "      <td>6</td>\n",
              "    </tr>\n",
              "    <tr>\n",
              "      <th>3</th>\n",
              "      <td>4</td>\n",
              "      <td>Female</td>\n",
              "      <td>23</td>\n",
              "      <td>16</td>\n",
              "      <td>77</td>\n",
              "    </tr>\n",
              "    <tr>\n",
              "      <th>4</th>\n",
              "      <td>5</td>\n",
              "      <td>Female</td>\n",
              "      <td>31</td>\n",
              "      <td>17</td>\n",
              "      <td>40</td>\n",
              "    </tr>\n",
              "  </tbody>\n",
              "</table>\n",
              "</div>"
            ],
            "text/plain": [
              "   CustomerID   Genre  Age  Annual Income (k$)  Spending Score (1-100)\n",
              "0           1    Male   19                  15                      39\n",
              "1           2    Male   21                  15                      81\n",
              "2           3  Female   20                  16                       6\n",
              "3           4  Female   23                  16                      77\n",
              "4           5  Female   31                  17                      40"
            ]
          },
          "metadata": {
            "tags": []
          },
          "execution_count": 4
        }
      ]
    },
    {
      "cell_type": "markdown",
      "metadata": {
        "id": "nWC2EWp2Lx5G"
      },
      "source": [
        "## **Using the elbow method to find the optimal number of clusters**"
      ]
    },
    {
      "cell_type": "markdown",
      "metadata": {
        "id": "vUbf7h6UJ7_S"
      },
      "source": [
        "The elbow method is used in determining the number of clusters in a data set,  picking the elbow of the curve as the number of clusters to use."
      ]
    },
    {
      "cell_type": "code",
      "metadata": {
        "id": "zWs6ciOoL1b3",
        "outputId": "03c1f87f-1f1e-4a28-b7ae-e2c6ec71cb45",
        "colab": {
          "base_uri": "https://localhost:8080/",
          "height": 295
        }
      },
      "source": [
        "from sklearn.cluster import KMeans\n",
        "wcss = []\n",
        "for i in range(1, 11):\n",
        "    kmeans = KMeans(n_clusters = i, init = 'k-means++', random_state = 42)\n",
        "    kmeans.fit(X)\n",
        "    wcss.append(kmeans.inertia_)\n",
        "plt.plot(range(1, 11), wcss)\n",
        "plt.title('The Elbow Method')\n",
        "plt.xlabel('Number of clusters')\n",
        "plt.ylabel('WCSS')\n",
        "plt.show()"
      ],
      "execution_count": null,
      "outputs": [
        {
          "output_type": "display_data",
          "data": {
            "image/png": "[encoded data removed]",
            "text/plain": [
              "<Figure size 432x288 with 1 Axes>"
            ]
          },
          "metadata": {
            "tags": [],
            "needs_background": "light"
          }
        }
      ]
    },
    {
      "cell_type": "markdown",
      "metadata": {
        "id": "VgT0mANLL4Nz"
      },
      "source": [
        "##**Applying K-Means model on the dataset**"
      ]
    },
    {
      "cell_type": "markdown",
      "metadata": {
        "id": "ut6Lv73DKPVL"
      },
      "source": [
        "The **KMeans**  was used to apply the **K-Means Clustering** method."
      ]
    },
    {
      "cell_type": "code",
      "metadata": {
        "id": "cjEfU6ZSMAPl"
      },
      "source": [
        "kmeans = KMeans(n_clusters = 5, init = 'k-means++', random_state = 42)\n",
        "y_kmeans = kmeans.fit_predict(X)"
      ],
      "execution_count": null,
      "outputs": []
    },
    {
      "cell_type": "markdown",
      "metadata": {
        "id": "e7YrS1JAMFnm"
      },
      "source": [
        "## **Visualising the clusters**"
      ]
    },
    {
      "cell_type": "markdown",
      "metadata": {
        "id": "C0MGIAXBKcqw"
      },
      "source": [
        "A graph was plotted with the real values (dots) present in the Database.The model generated differents clusters based on common standards."
      ]
    },
    {
      "cell_type": "code",
      "metadata": {
        "id": "d0ZYecccMHNx",
        "outputId": "a551473c-eaa9-48ed-b8a8-8b6298cb5252",
        "colab": {
          "base_uri": "https://localhost:8080/",
          "height": 295
        }
      },
      "source": [
        "plt.scatter(X[y_kmeans == 0, 0], X[y_kmeans == 0, 1], s = 100, c = 'red', label = 'Careless')\n",
        "plt.scatter(X[y_kmeans == 1, 0], X[y_kmeans == 1, 1], s = 100, c = 'blue', label = 'Standard')\n",
        "plt.scatter(X[y_kmeans == 2, 0], X[y_kmeans == 2, 1], s = 100, c = 'green', label = 'Target')\n",
        "plt.scatter(X[y_kmeans == 3, 0], X[y_kmeans == 3, 1], s = 100, c = 'cyan', label = 'Sensible')\n",
        "plt.scatter(X[y_kmeans == 4, 0], X[y_kmeans == 4, 1], s = 100, c = 'magenta', label = 'Careful')\n",
        "plt.scatter(kmeans.cluster_centers_[:, 0], kmeans.cluster_centers_[:, 1], s = 300, c = 'yellow', label = 'Centroids')\n",
        "plt.title('Clusters of customers')\n",
        "plt.xlabel('Annual Income (k$)')\n",
        "plt.ylabel('Spending Score (1-100)')\n",
        "plt.legend()\n",
        "plt.show()"
      ],
      "execution_count": null,
      "outputs": [
        {
          "output_type": "display_data",
          "data": {
            "image/png": "[encoded data removed]",
            "text/plain": [
              "<Figure size 432x288 with 1 Axes>"
            ]
          },
          "metadata": {
            "tags": [],
            "needs_background": "light"
          }
        }
      ]
    },
    {
      "cell_type": "markdown",
      "metadata": {
        "id": "w5ZsUtCXxqqV"
      },
      "source": [
        "## **Conclusion**"
      ]
    },
    {
      "cell_type": "markdown",
      "metadata": {
        "id": "Nbvm4jJYxqqc"
      },
      "source": [
        "The K-Means Clustering proved to be a great model, outcoming the data with common patterns."
      ]
    }
  ]
}