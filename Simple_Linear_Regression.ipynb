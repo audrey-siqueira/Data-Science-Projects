{
  "nbformat": 4,
  "nbformat_minor": 0,
  "metadata": {
    "colab": {
      "name": "Simple Linear Regression",
      "provenance": [],
      "toc_visible": true,
      "mount_file_id": "1BlM9TtBxpHVWS2dzrOAIDQnjSph9Du5V",
      "authorship_tag": "ABX9TyNM3M6Bf6d+s0RKJDlJNECq",
      "include_colab_link": true
    },
    "kernelspec": {
      "name": "python3",
      "display_name": "Python 3"
    }
  },
  "cells": [
    {
      "cell_type": "markdown",
      "metadata": {
        "id": "view-in-github",
        "colab_type": "text"
      },
      "source": [
        "<a href=\"https://colab.research.google.com/github/audrey-siqueira/Data-Science-Projects/blob/master/Simple_Linear_Regression.ipynb\" target=\"_parent\"><img src=\"https://colab.research.google.com/assets/colab-badge.svg\" alt=\"Open In Colab\"/></a>"
      ]
    },
    {
      "cell_type": "markdown",
      "metadata": {
        "id": "r89jL6gYsyyg"
      },
      "source": [
        "# **Salary Prediction Using Simple Linear Regression**\n",
        "---\n",
        "<p align=\"justify\">\n",
        " A company is looking for workers for a new project, aiming the growth in the market in order to obtain the best professionals at the lowest possible cost. This responsibility was delegated to the company's HR department.\n",
        "\n",
        "<p align=center>\n",
        "<img src=\"https://drive.google.com/uc?id=1hsmkKsBEQ-1MBRwMEJb7nqHkXY9Hzwnj\" width=\"80%\"></p>\n",
        "\n",
        "<p align=\"justify\">\n",
        "The HR department decided to use the salary history of its former workers along with their respective years of experience, to propose new salaries in the future, consistent with the years of experience of the new workers, in a way that the company does not offer a very high salary for a worker with few years of experience, nor does it offer a salary so low that a great talent can accept another competing company proposal.\n",
        "\n",
        "\n",
        "The proposed model was a a **Simple Linear Regression** using the company's database, with the values of **Years of Experience** of former workers on the X axis and the respective **Salaries** of former workers on the Y axis.\n",
        "\n",
        "<p align=center>\n",
        "<img src=\"https://drive.google.com/uc?id=1N-UE1KHgnLl43LFvo9dS5fCzGTWkL1F6\" width=\"60%\"></p>\n",
        "\n",
        "<p align=\"justify\">\n",
        "The database was divided into 2 parts, the Training part used the parameters values to generate the salary prediction curve, the Testing part was used to compare the real values with the prediction curve generated in the training and check the accuracy percentage of generated model.\n",
        "\n",
        "\n",
        "\n",
        "\n",
        "**Code description is explained below:**"
      ]
    },
    {
      "cell_type": "markdown",
      "metadata": {
        "id": "aX2LGDnFTDFk"
      },
      "source": [
        "## **Importing the libraries**\n"
      ]
    },
    {
      "cell_type": "markdown",
      "metadata": {
        "id": "74m--yTF9AzV"
      },
      "source": [
        "The 3 libraries needed for the project are imported.\n",
        "- Pandas for data manipulation and analysis\n",
        "- Numpy for mathematical operations\n",
        "- Matplotlib for graphical visualizations"
      ]
    },
    {
      "cell_type": "code",
      "metadata": {
        "id": "bru5xErJTFNt"
      },
      "source": [
        "import numpy as np\n",
        "import matplotlib.pyplot as plt\n",
        "import pandas as pd"
      ],
      "execution_count": null,
      "outputs": []
    },
    {
      "cell_type": "markdown",
      "metadata": {
        "id": "b2E1s3v0TQA4"
      },
      "source": [
        "## **Importing the data set**\n"
      ]
    },
    {
      "cell_type": "markdown",
      "metadata": {
        "id": "rRFTUdQ4819Z"
      },
      "source": [
        "The .csv file containing the company's database is imported.\n",
        "\n",
        "Separating **Years of Experience** as the corresponding X-axis values and the **Salary** as Y-axis values, it was obtained final data set..\n",
        "\n",
        "The values of the database header and how they are distributed can be viewed in the image below:"
      ]
    },
    {
      "cell_type": "code",
      "metadata": {
        "id": "bYfBzT_PuvpL",
        "outputId": "9eb033d2-4e88-4540-e599-bf035af0897e",
        "colab": {
          "base_uri": "https://localhost:8080/",
          "height": 195
        }
      },
      "source": [
        "dataset= pd.read_csv('/content/drive/My Drive/Colab Notebooks/1-Simple Linear Regression/Salary_Data.csv')\n",
        "X= dataset.iloc[:,:-1].values\n",
        "Y= dataset.iloc[:,1].values\n",
        "dataset.head()"
      ],
      "execution_count": null,
      "outputs": [
        {
          "output_type": "execute_result",
          "data": {
            "text/html": [
              "<div>\n",
              "<style scoped>\n",
              "    .dataframe tbody tr th:only-of-type {\n",
              "        vertical-align: middle;\n",
              "    }\n",
              "\n",
              "    .dataframe tbody tr th {\n",
              "        vertical-align: top;\n",
              "    }\n",
              "\n",
              "    .dataframe thead th {\n",
              "        text-align: right;\n",
              "    }\n",
              "</style>\n",
              "<table border=\"1\" class=\"dataframe\">\n",
              "  <thead>\n",
              "    <tr style=\"text-align: right;\">\n",
              "      <th></th>\n",
              "      <th>YearsExperience</th>\n",
              "      <th>Salary</th>\n",
              "    </tr>\n",
              "  </thead>\n",
              "  <tbody>\n",
              "    <tr>\n",
              "      <th>0</th>\n",
              "      <td>1.1</td>\n",
              "      <td>39343.0</td>\n",
              "    </tr>\n",
              "    <tr>\n",
              "      <th>1</th>\n",
              "      <td>1.3</td>\n",
              "      <td>46205.0</td>\n",
              "    </tr>\n",
              "    <tr>\n",
              "      <th>2</th>\n",
              "      <td>1.5</td>\n",
              "      <td>37731.0</td>\n",
              "    </tr>\n",
              "    <tr>\n",
              "      <th>3</th>\n",
              "      <td>2.0</td>\n",
              "      <td>43525.0</td>\n",
              "    </tr>\n",
              "    <tr>\n",
              "      <th>4</th>\n",
              "      <td>2.2</td>\n",
              "      <td>39891.0</td>\n",
              "    </tr>\n",
              "  </tbody>\n",
              "</table>\n",
              "</div>"
            ],
            "text/plain": [
              "   YearsExperience   Salary\n",
              "0              1.1  39343.0\n",
              "1              1.3  46205.0\n",
              "2              1.5  37731.0\n",
              "3              2.0  43525.0\n",
              "4              2.2  39891.0"
            ]
          },
          "metadata": {
            "tags": []
          },
          "execution_count": 2
        }
      ]
    },
    {
      "cell_type": "markdown",
      "metadata": {
        "id": "7OKeFbibTg9M"
      },
      "source": [
        "## **Splitting the dataset into the Training set and Test set**"
      ]
    },
    {
      "cell_type": "markdown",
      "metadata": {
        "id": "XImrUSiN-mHB"
      },
      "source": [
        "The ***sklearn.model_selection*** library was used to divide the database between Training set and Test set. \n",
        "\n",
        "X and Y axes values were divided between Training set and Test set, resulting in 4 final vectors:\n",
        "**X_train**, **X_test** and **Y_train**, **Y_test**\n",
        "\n",
        "Due to the small size of the database, it was agreed to be better to use 2/3 of the total values for Training and 1/3 of the total values for Testing."
      ]
    },
    {
      "cell_type": "code",
      "metadata": {
        "id": "ylrWFnHOuy_Q"
      },
      "source": [
        "from sklearn.model_selection import train_test_split\n",
        "X_train,X_test,Y_train,Y_test=train_test_split(X,Y,test_size=1/3,random_state=0)"
      ],
      "execution_count": null,
      "outputs": []
    },
    {
      "cell_type": "markdown",
      "metadata": {
        "id": "7YEzcvQYT2hK"
      },
      "source": [
        "## **Fitting Simple Linear Regression to the Training Set**"
      ]
    },
    {
      "cell_type": "markdown",
      "metadata": {
        "id": "nzp9MeeepTVN"
      },
      "source": [
        "The **sklearn.linear_model** library was used to apply the **Simple Linear Regression** method.\n",
        "\n",
        "Using the **Training set** of X and Y values, a prediction curve is created."
      ]
    },
    {
      "cell_type": "code",
      "metadata": {
        "id": "n0ArEUncu821",
        "outputId": "c7139aec-3ad9-448f-b61c-5cf1cf599cd5",
        "colab": {
          "base_uri": "https://localhost:8080/",
          "height": 34
        }
      },
      "source": [
        "from sklearn.linear_model import LinearRegression\n",
        "regressor= LinearRegression()\n",
        "regressor.fit(X_train, Y_train)"
      ],
      "execution_count": null,
      "outputs": [
        {
          "output_type": "execute_result",
          "data": {
            "text/plain": [
              "LinearRegression(copy_X=True, fit_intercept=True, n_jobs=None, normalize=False)"
            ]
          },
          "metadata": {
            "tags": []
          },
          "execution_count": 4
        }
      ]
    },
    {
      "cell_type": "markdown",
      "metadata": {
        "id": "_25PNHqVT9Jw"
      },
      "source": [
        "## **Visualising the Training Set Results**"
      ]
    },
    {
      "cell_type": "markdown",
      "metadata": {
        "id": "X6oCjW43qZrn"
      },
      "source": [
        "A graph was plotted with the real values of **X-axis values VERSUS Y-axis values** (red dots), present in the **Training set**. From these previously mentioned values, the model generated a prediction curve (blue line)."
      ]
    },
    {
      "cell_type": "code",
      "metadata": {
        "id": "SaMmkJobvC6t",
        "outputId": "9dbd8e5f-94a8-429e-9fb4-a1499f107e89",
        "colab": {
          "base_uri": "https://localhost:8080/",
          "height": 295
        }
      },
      "source": [
        "plt.scatter(X_train,Y_train,color='red')\n",
        "plt.plot(X_train,regressor.predict(X_train),color='blue')\n",
        "plt.title('Experience x Salary (Training Set)')\n",
        "plt.xlabel('Experience')\n",
        "plt.ylabel('Salary')\n",
        "plt.show()"
      ],
      "execution_count": null,
      "outputs": [
        {
          "output_type": "display_data",
          "data": {
            "image/png": "[encoded data removed]",
            "text/plain": [
              "<Figure size 432x288 with 1 Axes>"
            ]
          },
          "metadata": {
            "tags": [],
            "needs_background": "light"
          }
        }
      ]
    },
    {
      "cell_type": "markdown",
      "metadata": {
        "id": "WHH1-zurUCrO"
      },
      "source": [
        "## **Predicting the Test Set Results**"
      ]
    },
    {
      "cell_type": "markdown",
      "metadata": {
        "id": "N4jJo4WErKSW"
      },
      "source": [
        "In this step was created a vector of predictions using the values of X-axis from **Test set**, based on the regressor generated with the **Training set** in previous step.\n",
        "\n",
        "Comparing these predictions with the real values of Y-axis in the **Test set**, is possible to calculate the accuracy of the model."
      ]
    },
    {
      "cell_type": "code",
      "metadata": {
        "id": "T1a2jhbwvD7I",
        "outputId": "68816ae4-38c9-44ba-c8cf-888863a9f7ba",
        "colab": {
          "base_uri": "https://localhost:8080/",
          "height": 185
        }
      },
      "source": [
        "Y_pred= regressor.predict(X_test)\n",
        "\n",
        "np.set_printoptions(precision=2)\n",
        "print(np.concatenate((Y_pred.reshape(len(Y_pred),1), Y_test.reshape(len(Y_test),1)),1))"
      ],
      "execution_count": null,
      "outputs": [
        {
          "output_type": "stream",
          "text": [
            "[[ 40835.11  37731.  ]\n",
            " [123079.4  122391.  ]\n",
            " [ 65134.56  57081.  ]\n",
            " [ 63265.37  63218.  ]\n",
            " [115602.65 116969.  ]\n",
            " [108125.89 109431.  ]\n",
            " [116537.24 112635.  ]\n",
            " [ 64199.96  55794.  ]\n",
            " [ 76349.69  83088.  ]\n",
            " [100649.14 101302.  ]]\n"
          ],
          "name": "stdout"
        }
      ]
    },
    {
      "cell_type": "markdown",
      "metadata": {
        "id": "bSwr8vj6ByDy"
      },
      "source": [
        "## **Evaluating the Model Performance**"
      ]
    },
    {
      "cell_type": "markdown",
      "metadata": {
        "id": "50fXDOsKByD2"
      },
      "source": [
        "The **sklearn.metrics** library was used to apply the **R square** method and verify the accuracy of this model."
      ]
    },
    {
      "cell_type": "code",
      "metadata": {
        "id": "2OL2cLgeByD5",
        "outputId": "8b2b578f-8865-4bd5-88ec-84d104e5d4a7",
        "colab": {
          "base_uri": "https://localhost:8080/",
          "height": 34
        }
      },
      "source": [
        "from sklearn.metrics import r2_score\n",
        "r2_score(Y_test,Y_pred)"
      ],
      "execution_count": null,
      "outputs": [
        {
          "output_type": "execute_result",
          "data": {
            "text/plain": [
              "0.9749154407708353"
            ]
          },
          "metadata": {
            "tags": []
          },
          "execution_count": 8
        }
      ]
    },
    {
      "cell_type": "markdown",
      "metadata": {
        "id": "w5ZsUtCXxqqV"
      },
      "source": [
        "## **Conclusion**"
      ]
    },
    {
      "cell_type": "markdown",
      "metadata": {
        "id": "Nbvm4jJYxqqc"
      },
      "source": [
        "Simple Linear Regression proved to be a great model forecasting results for Salaries according to Years of Experience, outcoming an accuracy of 97,5%."
      ]
    }
  ]
}