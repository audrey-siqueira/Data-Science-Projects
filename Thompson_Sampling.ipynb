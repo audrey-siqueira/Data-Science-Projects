{
  "nbformat": 4,
  "nbformat_minor": 0,
  "metadata": {
    "colab": {
      "name": "Thompson Sampling.ipynb",
      "provenance": [],
      "toc_visible": true,
      "mount_file_id": "12uUUqxap9TUPQT2x21AzeTZpEZlFvv1v",
      "authorship_tag": "ABX9TyPsm9YLUcxMN5xVPeAnlunU",
      "include_colab_link": true
    },
    "kernelspec": {
      "name": "python3",
      "display_name": "Python 3"
    }
  },
  "cells": [
    {
      "cell_type": "markdown",
      "metadata": {
        "id": "view-in-github",
        "colab_type": "text"
      },
      "source": [
        "<a href=\"https://colab.research.google.com/github/audrey-siqueira/Data-Science-Projects/blob/master/Thompson_Sampling.ipynb\" target=\"_parent\"><img src=\"https://colab.research.google.com/assets/colab-badge.svg\" alt=\"Open In Colab\"/></a>"
      ]
    },
    {
      "cell_type": "markdown",
      "metadata": {
        "id": "r89jL6gYsyyg"
      },
      "source": [
        "# **Optimizing ADS clicks using Thompson Sampling**\n",
        "---\n",
        "<p align=\"justify\">\n",
        "A sales company designed 10 different ADS for the same product, with the goal of knowing which AD most induces people to click on the banner. If uses traditional statistical mathematics, the company can test all ADS the same number of times and check which AD returned the most clicks.\n",
        "\n",
        "<p align=center>\n",
        "<img src=\"https://drive.google.com/uc?id=1Qq6spUq_M3m0NQL-z1F7sY5F0xUIyp6d\" width=\"40%\"></p>\n",
        "\n",
        "<p align=\"justify\">\n",
        "But a data engineer at the company presented a project using reinforcement learning, indicating that it was not necessary to test all ADS the same number of times to find out which AD was the best. He said it was possible to find out which AD would be the best with the test in process, using fewer attempts and optimizing the total number of clicks.\n",
        "\n",
        "<p align=center>\n",
        "<img src=\"https://drive.google.com/uc?id=1mf7bi-6hZILElcEcmXa8tFL_PdVjyj3r\" width=\"60%\"></p>\n",
        "\n",
        "He stated that with each round of testing, an AD would be more likely to be tested in the next round, if in the previous round the AD had a positive result, if it had a negative result the chances of being drawn for the next round would decrease in percentage, that way, the AD that had the best chances would always be presented to the user.\n",
        "\n",
        "The strategy in this case is to use the **Thompson Sampling** Reinforcement Learning method to optimize the number of clicks. \n",
        "\n",
        "\n",
        "**Code description is explained below:**"
      ]
    },
    {
      "cell_type": "markdown",
      "metadata": {
        "id": "aX2LGDnFTDFk"
      },
      "source": [
        "## **Importing the libraries**\n"
      ]
    },
    {
      "cell_type": "markdown",
      "metadata": {
        "id": "74m--yTF9AzV"
      },
      "source": [
        "The 3 libraries needed for the project are imported.\n",
        "- Pandas for data manipulation and analysis\n",
        "- Numpy for mathematical operations\n",
        "- Matplotlib for graphical visualizations"
      ]
    },
    {
      "cell_type": "code",
      "metadata": {
        "id": "bru5xErJTFNt"
      },
      "source": [
        "import numpy as np\n",
        "import matplotlib.pyplot as plt\n",
        "import pandas as pd"
      ],
      "execution_count": null,
      "outputs": []
    },
    {
      "cell_type": "markdown",
      "metadata": {
        "id": "i_EnjWNPhiPI"
      },
      "source": [
        "## **Importing the data set**\n"
      ]
    },
    {
      "cell_type": "markdown",
      "metadata": {
        "id": "waYTSNZGhiPK"
      },
      "source": [
        "The .csv file containing  database is imported.\n",
        "\n",
        "The values of the database header and how they are distributed can be viewed in the image below:"
      ]
    },
    {
      "cell_type": "code",
      "metadata": {
        "id": "w7J8XE23hiPL",
        "outputId": "aefe9b69-5f89-4a87-f16d-b7f89eeff42a",
        "colab": {
          "base_uri": "https://localhost:8080/",
          "height": 195
        }
      },
      "source": [
        "dataset = pd.read_csv('/content/drive/My Drive/Colab Notebooks/Reinforcement Learning/Thompson Sampling/Ads_CTR_Optimisation.csv')\n",
        "dataset.head()"
      ],
      "execution_count": null,
      "outputs": [
        {
          "output_type": "execute_result",
          "data": {
            "text/html": [
              "<div>\n",
              "<style scoped>\n",
              "    .dataframe tbody tr th:only-of-type {\n",
              "        vertical-align: middle;\n",
              "    }\n",
              "\n",
              "    .dataframe tbody tr th {\n",
              "        vertical-align: top;\n",
              "    }\n",
              "\n",
              "    .dataframe thead th {\n",
              "        text-align: right;\n",
              "    }\n",
              "</style>\n",
              "<table border=\"1\" class=\"dataframe\">\n",
              "  <thead>\n",
              "    <tr style=\"text-align: right;\">\n",
              "      <th></th>\n",
              "      <th>Ad 1</th>\n",
              "      <th>Ad 2</th>\n",
              "      <th>Ad 3</th>\n",
              "      <th>Ad 4</th>\n",
              "      <th>Ad 5</th>\n",
              "      <th>Ad 6</th>\n",
              "      <th>Ad 7</th>\n",
              "      <th>Ad 8</th>\n",
              "      <th>Ad 9</th>\n",
              "      <th>Ad 10</th>\n",
              "    </tr>\n",
              "  </thead>\n",
              "  <tbody>\n",
              "    <tr>\n",
              "      <th>0</th>\n",
              "      <td>1</td>\n",
              "      <td>0</td>\n",
              "      <td>0</td>\n",
              "      <td>0</td>\n",
              "      <td>1</td>\n",
              "      <td>0</td>\n",
              "      <td>0</td>\n",
              "      <td>0</td>\n",
              "      <td>1</td>\n",
              "      <td>0</td>\n",
              "    </tr>\n",
              "    <tr>\n",
              "      <th>1</th>\n",
              "      <td>0</td>\n",
              "      <td>0</td>\n",
              "      <td>0</td>\n",
              "      <td>0</td>\n",
              "      <td>0</td>\n",
              "      <td>0</td>\n",
              "      <td>0</td>\n",
              "      <td>0</td>\n",
              "      <td>1</td>\n",
              "      <td>0</td>\n",
              "    </tr>\n",
              "    <tr>\n",
              "      <th>2</th>\n",
              "      <td>0</td>\n",
              "      <td>0</td>\n",
              "      <td>0</td>\n",
              "      <td>0</td>\n",
              "      <td>0</td>\n",
              "      <td>0</td>\n",
              "      <td>0</td>\n",
              "      <td>0</td>\n",
              "      <td>0</td>\n",
              "      <td>0</td>\n",
              "    </tr>\n",
              "    <tr>\n",
              "      <th>3</th>\n",
              "      <td>0</td>\n",
              "      <td>1</td>\n",
              "      <td>0</td>\n",
              "      <td>0</td>\n",
              "      <td>0</td>\n",
              "      <td>0</td>\n",
              "      <td>0</td>\n",
              "      <td>1</td>\n",
              "      <td>0</td>\n",
              "      <td>0</td>\n",
              "    </tr>\n",
              "    <tr>\n",
              "      <th>4</th>\n",
              "      <td>0</td>\n",
              "      <td>0</td>\n",
              "      <td>0</td>\n",
              "      <td>0</td>\n",
              "      <td>0</td>\n",
              "      <td>0</td>\n",
              "      <td>0</td>\n",
              "      <td>0</td>\n",
              "      <td>0</td>\n",
              "      <td>0</td>\n",
              "    </tr>\n",
              "  </tbody>\n",
              "</table>\n",
              "</div>"
            ],
            "text/plain": [
              "   Ad 1  Ad 2  Ad 3  Ad 4  Ad 5  Ad 6  Ad 7  Ad 8  Ad 9  Ad 10\n",
              "0     1     0     0     0     1     0     0     0     1      0\n",
              "1     0     0     0     0     0     0     0     0     1      0\n",
              "2     0     0     0     0     0     0     0     0     0      0\n",
              "3     0     1     0     0     0     0     0     1     0      0\n",
              "4     0     0     0     0     0     0     0     0     0      0"
            ]
          },
          "metadata": {
            "tags": []
          },
          "execution_count": 3
        }
      ]
    },
    {
      "cell_type": "markdown",
      "metadata": {
        "id": "KDbXbo9INLF6"
      },
      "source": [
        "## **Applying Thompson Sampling model on the dataset**"
      ]
    },
    {
      "cell_type": "markdown",
      "metadata": {
        "id": "FSQMLI1CIya6"
      },
      "source": [
        "The **random** library was used to apply the **Thompson Sampling** method.\n",
        "\n"
      ]
    },
    {
      "cell_type": "code",
      "metadata": {
        "id": "IoH3zs2KNSw6"
      },
      "source": [
        "import random\n",
        "N = 10000\n",
        "d = 10\n",
        "ads_selected = []\n",
        "numbers_of_rewards_1 = [0] * d\n",
        "numbers_of_rewards_0 = [0] * d\n",
        "total_reward = 0\n",
        "for n in range(0, N):\n",
        "    ad = 0\n",
        "    max_random = 0\n",
        "    for i in range(0, d):\n",
        "        random_beta = random.betavariate(numbers_of_rewards_1[i] + 1, numbers_of_rewards_0[i] + 1)\n",
        "        if random_beta > max_random:\n",
        "            max_random = random_beta\n",
        "            ad = i\n",
        "    ads_selected.append(ad)\n",
        "    reward = dataset.values[n, ad]\n",
        "    if reward == 1:\n",
        "        numbers_of_rewards_1[ad] = numbers_of_rewards_1[ad] + 1\n",
        "    else:\n",
        "        numbers_of_rewards_0[ad] = numbers_of_rewards_0[ad] + 1\n",
        "    total_reward = total_reward + reward"
      ],
      "execution_count": null,
      "outputs": []
    },
    {
      "cell_type": "markdown",
      "metadata": {
        "id": "b176YNwWspiO"
      },
      "source": [
        "## **Visualising the results**"
      ]
    },
    {
      "cell_type": "markdown",
      "metadata": {
        "id": "C30-kDrq-Px8"
      },
      "source": [
        "Displaying the histogram of ads selections."
      ]
    },
    {
      "cell_type": "code",
      "metadata": {
        "id": "nI7DJXng-nxQ",
        "outputId": "c8a0eaea-b017-4dae-d091-546507d881e9",
        "colab": {
          "base_uri": "https://localhost:8080/",
          "height": 295
        }
      },
      "source": [
        "plt.hist(ads_selected)\n",
        "plt.title('Histogram of ads selections')\n",
        "plt.xlabel('Ads')\n",
        "plt.ylabel('Number of times each ad was selected')\n",
        "plt.show()"
      ],
      "execution_count": null,
      "outputs": [
        {
          "output_type": "display_data",
          "data": {
            "image/png": "[encoded data removed]",
            "text/plain": [
              "<Figure size 432x288 with 1 Axes>"
            ]
          },
          "metadata": {
            "tags": [],
            "needs_background": "light"
          }
        }
      ]
    },
    {
      "cell_type": "markdown",
      "metadata": {
        "id": "w5ZsUtCXxqqV"
      },
      "source": [
        "## **Conclusion**"
      ]
    },
    {
      "cell_type": "markdown",
      "metadata": {
        "id": "Nbvm4jJYxqqc"
      },
      "source": [
        "The Thompson Sampling returned around 9000 clicks using AD number 5 . "
      ]
    }
  ]
}