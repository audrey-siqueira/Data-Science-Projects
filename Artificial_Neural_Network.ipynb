{
  "nbformat": 4,
  "nbformat_minor": 0,
  "metadata": {
    "colab": {
      "name": "Artificial Neural Network.ipynb",
      "provenance": [],
      "toc_visible": true,
      "mount_file_id": "1zcyQ7rdQwKt9hgY5GUxmeSF0p-xG7TUb",
      "authorship_tag": "ABX9TyOh8FLN+ejeCT71nG3TGKdd",
      "include_colab_link": true
    },
    "kernelspec": {
      "name": "python3",
      "display_name": "Python 3"
    }
  },
  "cells": [
    {
      "cell_type": "markdown",
      "metadata": {
        "id": "view-in-github",
        "colab_type": "text"
      },
      "source": [
        "<a href=\"https://colab.research.google.com/github/audrey-siqueira/Data-Science-Projects/blob/master/Artificial_Neural_Network.ipynb\" target=\"_parent\"><img src=\"https://colab.research.google.com/assets/colab-badge.svg\" alt=\"Open In Colab\"/></a>"
      ]
    },
    {
      "cell_type": "markdown",
      "metadata": {
        "id": "r89jL6gYsyyg"
      },
      "source": [
        "# **Churn Rate Prediction using Artificial Neural Network**\n",
        "---\n",
        "<p align=\"justify\">\n",
        "Churn rate, when applied to a customer base, refers to the proportion of contractual customers or subscribers who leave a supplier during a given time period. It is a possible indicator of customer dissatisfaction.\n",
        "\n",
        "<p align=center>\n",
        "<img src=\"https://drive.google.com/uc?id=1av3zO8GnEdNtaRqoP-CQzlbfOmgLPeh0\" width=\"60%\"></p>\n",
        "\n",
        "<p align=\"justify\">\n",
        "A bank has a database with all its customers and their respective parameters such as: Credit Score, Nationality, Gender, Age, Balance, Estimated salary and etc, all of these parameters return the dependent variable, if the customer left (1) or not (0) the bank. The bank's shareholders want to do a study to predict the possibility of a customer leaves the bank. The Data Science department of this bank, which has the database mentioned above, can verify which customers have left the bank or not in the last few months and based on this history proposed a prediction model for next customers based on Deep Learning.\n",
        "\n",
        "<p align=center>\n",
        "<img src=\"https://drive.google.com/uc?id=1r6YkLmONo1OcStEkztuNjD4TeIMfkikY\" width=\"40%\"></p>\n",
        "\n",
        "\n",
        "The strategy in this case is to use the **Artificial Neural Network** to forecast the Churn Rate of the Bank. \n",
        "\n",
        "\n",
        "**Code description is explained below:**"
      ]
    },
    {
      "cell_type": "markdown",
      "metadata": {
        "id": "1E0Q3aoKUCRX"
      },
      "source": [
        "## **Part 1 - Data Preprocessing**"
      ]
    },
    {
      "cell_type": "markdown",
      "metadata": {
        "id": "aX2LGDnFTDFk"
      },
      "source": [
        "### **Importing the libraries**\n"
      ]
    },
    {
      "cell_type": "markdown",
      "metadata": {
        "id": "74m--yTF9AzV"
      },
      "source": [
        "The 3 libraries needed for the project are imported.\n",
        "- Pandas for data manipulation and analysis\n",
        "- Numpy for mathematical operations\n",
        "- Tensorflow for Deep Learning"
      ]
    },
    {
      "cell_type": "code",
      "metadata": {
        "id": "bru5xErJTFNt",
        "outputId": "0120d28f-e4c5-4686-9f53-ce92b4e8fd47",
        "colab": {
          "base_uri": "https://localhost:8080/"
        }
      },
      "source": [
        "import pandas as pd\n",
        "import numpy as np\n",
        "import tensorflow as tf\n",
        "tf.__version__"
      ],
      "execution_count": null,
      "outputs": [
        {
          "output_type": "execute_result",
          "data": {
            "application/vnd.google.colaboratory.intrinsic+json": {
              "type": "string"
            },
            "text/plain": [
              "'2.3.0'"
            ]
          },
          "metadata": {
            "tags": []
          },
          "execution_count": 36
        }
      ]
    },
    {
      "cell_type": "markdown",
      "metadata": {
        "id": "i_EnjWNPhiPI"
      },
      "source": [
        "### **Importing the data set**\n"
      ]
    },
    {
      "cell_type": "markdown",
      "metadata": {
        "id": "waYTSNZGhiPK"
      },
      "source": [
        "The .csv file containing  database is imported.\n",
        "\n",
        "The values of the database header and how they are distributed can be viewed in the image below:"
      ]
    },
    {
      "cell_type": "code",
      "metadata": {
        "id": "w7J8XE23hiPL",
        "outputId": "2bea70f1-a6dc-43dc-9e18-6f0d1f369a4f",
        "colab": {
          "base_uri": "https://localhost:8080/"
        }
      },
      "source": [
        "dataset = pd.read_csv('/content/drive/My Drive/Colab Notebooks/Deep Learning/Artificial Neural Network/Churn_Modelling.csv')\n",
        "X = dataset.iloc[:, 3:-1].values\n",
        "Y = dataset.iloc[:, -1].values\n",
        "dataset.head()"
      ],
      "execution_count": null,
      "outputs": [
        {
          "output_type": "execute_result",
          "data": {
            "text/html": [
              "<div>\n",
              "<style scoped>\n",
              "    .dataframe tbody tr th:only-of-type {\n",
              "        vertical-align: middle;\n",
              "    }\n",
              "\n",
              "    .dataframe tbody tr th {\n",
              "        vertical-align: top;\n",
              "    }\n",
              "\n",
              "    .dataframe thead th {\n",
              "        text-align: right;\n",
              "    }\n",
              "</style>\n",
              "<table border=\"1\" class=\"dataframe\">\n",
              "  <thead>\n",
              "    <tr style=\"text-align: right;\">\n",
              "      <th></th>\n",
              "      <th>RowNumber</th>\n",
              "      <th>CustomerId</th>\n",
              "      <th>Surname</th>\n",
              "      <th>CreditScore</th>\n",
              "      <th>Geography</th>\n",
              "      <th>Gender</th>\n",
              "      <th>Age</th>\n",
              "      <th>Tenure</th>\n",
              "      <th>Balance</th>\n",
              "      <th>NumOfProducts</th>\n",
              "      <th>HasCrCard</th>\n",
              "      <th>IsActiveMember</th>\n",
              "      <th>EstimatedSalary</th>\n",
              "      <th>Exited</th>\n",
              "    </tr>\n",
              "  </thead>\n",
              "  <tbody>\n",
              "    <tr>\n",
              "      <th>0</th>\n",
              "      <td>1</td>\n",
              "      <td>15634602</td>\n",
              "      <td>Hargrave</td>\n",
              "      <td>619</td>\n",
              "      <td>France</td>\n",
              "      <td>Female</td>\n",
              "      <td>42</td>\n",
              "      <td>2</td>\n",
              "      <td>0.00</td>\n",
              "      <td>1</td>\n",
              "      <td>1</td>\n",
              "      <td>1</td>\n",
              "      <td>101348.88</td>\n",
              "      <td>1</td>\n",
              "    </tr>\n",
              "    <tr>\n",
              "      <th>1</th>\n",
              "      <td>2</td>\n",
              "      <td>15647311</td>\n",
              "      <td>Hill</td>\n",
              "      <td>608</td>\n",
              "      <td>Spain</td>\n",
              "      <td>Female</td>\n",
              "      <td>41</td>\n",
              "      <td>1</td>\n",
              "      <td>83807.86</td>\n",
              "      <td>1</td>\n",
              "      <td>0</td>\n",
              "      <td>1</td>\n",
              "      <td>112542.58</td>\n",
              "      <td>0</td>\n",
              "    </tr>\n",
              "    <tr>\n",
              "      <th>2</th>\n",
              "      <td>3</td>\n",
              "      <td>15619304</td>\n",
              "      <td>Onio</td>\n",
              "      <td>502</td>\n",
              "      <td>France</td>\n",
              "      <td>Female</td>\n",
              "      <td>42</td>\n",
              "      <td>8</td>\n",
              "      <td>159660.80</td>\n",
              "      <td>3</td>\n",
              "      <td>1</td>\n",
              "      <td>0</td>\n",
              "      <td>113931.57</td>\n",
              "      <td>1</td>\n",
              "    </tr>\n",
              "    <tr>\n",
              "      <th>3</th>\n",
              "      <td>4</td>\n",
              "      <td>15701354</td>\n",
              "      <td>Boni</td>\n",
              "      <td>699</td>\n",
              "      <td>France</td>\n",
              "      <td>Female</td>\n",
              "      <td>39</td>\n",
              "      <td>1</td>\n",
              "      <td>0.00</td>\n",
              "      <td>2</td>\n",
              "      <td>0</td>\n",
              "      <td>0</td>\n",
              "      <td>93826.63</td>\n",
              "      <td>0</td>\n",
              "    </tr>\n",
              "    <tr>\n",
              "      <th>4</th>\n",
              "      <td>5</td>\n",
              "      <td>15737888</td>\n",
              "      <td>Mitchell</td>\n",
              "      <td>850</td>\n",
              "      <td>Spain</td>\n",
              "      <td>Female</td>\n",
              "      <td>43</td>\n",
              "      <td>2</td>\n",
              "      <td>125510.82</td>\n",
              "      <td>1</td>\n",
              "      <td>1</td>\n",
              "      <td>1</td>\n",
              "      <td>79084.10</td>\n",
              "      <td>0</td>\n",
              "    </tr>\n",
              "  </tbody>\n",
              "</table>\n",
              "</div>"
            ],
            "text/plain": [
              "   RowNumber  CustomerId   Surname  ...  IsActiveMember EstimatedSalary Exited\n",
              "0          1    15634602  Hargrave  ...               1       101348.88      1\n",
              "1          2    15647311      Hill  ...               1       112542.58      0\n",
              "2          3    15619304      Onio  ...               0       113931.57      1\n",
              "3          4    15701354      Boni  ...               0        93826.63      0\n",
              "4          5    15737888  Mitchell  ...               1        79084.10      0\n",
              "\n",
              "[5 rows x 14 columns]"
            ]
          },
          "metadata": {
            "tags": []
          },
          "execution_count": 37
        }
      ]
    },
    {
      "cell_type": "markdown",
      "metadata": {
        "id": "FR3rISxZNYAX"
      },
      "source": [
        "### **Encoding Categorical Data**"
      ]
    },
    {
      "cell_type": "markdown",
      "metadata": {
        "id": "l0sCPJIgcwqP"
      },
      "source": [
        "The **sklearn.compose** and **sklearn.preprocessing** libraries were used to transform categorical features in numeric values."
      ]
    },
    {
      "cell_type": "code",
      "metadata": {
        "id": "NCA1b0UpNlPK",
        "outputId": "0dd85a49-7dfc-442c-adcf-7ca97caebe8c",
        "colab": {
          "base_uri": "https://localhost:8080/"
        }
      },
      "source": [
        "#Encoding Gender\n",
        "from sklearn.preprocessing import LabelEncoder\n",
        "le = LabelEncoder()\n",
        "X[:, 2] = le.fit_transform(X[:, 2])\n",
        "\n",
        "#Encoding Geography\n",
        "from sklearn.compose import ColumnTransformer\n",
        "from sklearn.preprocessing import OneHotEncoder\n",
        "ct = ColumnTransformer(transformers=[('encoder', OneHotEncoder(), [1])], remainder='passthrough')\n",
        "X = np.array(ct.fit_transform(X))\n",
        "\n",
        "print(X)\n"
      ],
      "execution_count": null,
      "outputs": [
        {
          "output_type": "stream",
          "text": [
            "[[1.0 0.0 0.0 ... 1 1 101348.88]\n",
            " [0.0 0.0 1.0 ... 0 1 112542.58]\n",
            " [1.0 0.0 0.0 ... 1 0 113931.57]\n",
            " ...\n",
            " [1.0 0.0 0.0 ... 0 1 42085.58]\n",
            " [0.0 1.0 0.0 ... 1 0 92888.52]\n",
            " [1.0 0.0 0.0 ... 1 0 38190.78]]\n"
          ],
          "name": "stdout"
        }
      ]
    },
    {
      "cell_type": "markdown",
      "metadata": {
        "id": "7OKeFbibTg9M"
      },
      "source": [
        "### **Splitting the dataset into the Training set and Test set**"
      ]
    },
    {
      "cell_type": "markdown",
      "metadata": {
        "id": "XImrUSiN-mHB"
      },
      "source": [
        "The ***sklearn.model_selection*** library was used to divide the database between Training set and Test set. \n",
        "\n",
        "X and Y axes values were divided between Training set and Test set, resulting in 4 final vectors:\n",
        "**X_train**, **X_test** and **Y_train**, **Y_test**\n",
        "\n",
        "The database was divided in 80% of the total values for Training and 20% of the total values for Testing."
      ]
    },
    {
      "cell_type": "code",
      "metadata": {
        "id": "ylrWFnHOuy_Q"
      },
      "source": [
        "from sklearn.model_selection import train_test_split\n",
        "X_train,X_test,Y_train,Y_test=train_test_split(X,Y,test_size=0.2,random_state=0)"
      ],
      "execution_count": null,
      "outputs": []
    },
    {
      "cell_type": "markdown",
      "metadata": {
        "id": "a56mY05WyM6t"
      },
      "source": [
        "### **Feature Scaling**\n"
      ]
    },
    {
      "cell_type": "markdown",
      "metadata": {
        "id": "mYqBAAHdyM6z"
      },
      "source": [
        "Feature scaling is a method used to normalize the range of independent variables or features of data. In data processing, it is also known as data normalization and is generally performed during the data preprocessing step."
      ]
    },
    {
      "cell_type": "code",
      "metadata": {
        "id": "jDWwrmv1yM62"
      },
      "source": [
        "from sklearn.preprocessing import StandardScaler\n",
        "sc=StandardScaler()\n",
        "X_train=sc.fit_transform(X_train)\n",
        "X_test=sc.transform(X_test)"
      ],
      "execution_count": null,
      "outputs": []
    },
    {
      "cell_type": "markdown",
      "metadata": {
        "id": "-zfEzkRVXIwF"
      },
      "source": [
        "## **Part 2 - Creating the ANN**"
      ]
    },
    {
      "cell_type": "markdown",
      "metadata": {
        "id": "KvdeScabXtlB"
      },
      "source": [
        "### **Initializing the ANN**"
      ]
    },
    {
      "cell_type": "code",
      "metadata": {
        "id": "3dtrScHxXQox"
      },
      "source": [
        "ann = tf.keras.models.Sequential()"
      ],
      "execution_count": null,
      "outputs": []
    },
    {
      "cell_type": "markdown",
      "metadata": {
        "id": "rP6urV6SX7kS"
      },
      "source": [
        "### **Adding the input layer and the first hidden layer**"
      ]
    },
    {
      "cell_type": "code",
      "metadata": {
        "id": "bppGycBXYCQr"
      },
      "source": [
        "ann.add(tf.keras.layers.Dense(units=6, activation='relu'))"
      ],
      "execution_count": null,
      "outputs": []
    },
    {
      "cell_type": "markdown",
      "metadata": {
        "id": "BELWAc_8YJze"
      },
      "source": [
        "### **Adding the second hidden layer**"
      ]
    },
    {
      "cell_type": "code",
      "metadata": {
        "id": "JneR0u0sYRTd"
      },
      "source": [
        "ann.add(tf.keras.layers.Dense(units=6, activation='relu'))"
      ],
      "execution_count": null,
      "outputs": []
    },
    {
      "cell_type": "markdown",
      "metadata": {
        "id": "OyNEe6RXYcU4"
      },
      "source": [
        "### **Adding the output layer**"
      ]
    },
    {
      "cell_type": "code",
      "metadata": {
        "id": "Cn3x41RBYfvY"
      },
      "source": [
        "ann.add(tf.keras.layers.Dense(units=1, activation='sigmoid'))"
      ],
      "execution_count": null,
      "outputs": []
    },
    {
      "cell_type": "markdown",
      "metadata": {
        "id": "JT4u2S1_Y4WG"
      },
      "source": [
        "## **Part 3 - Training the ANN**"
      ]
    },
    {
      "cell_type": "markdown",
      "metadata": {
        "id": "8GWlJChhY_ZI"
      },
      "source": [
        "### **Compiling the ANN**"
      ]
    },
    {
      "cell_type": "code",
      "metadata": {
        "id": "fG3RrwDXZEaS"
      },
      "source": [
        "ann.compile(optimizer = 'adam', loss = 'binary_crossentropy', metrics = ['accuracy'])"
      ],
      "execution_count": null,
      "outputs": []
    },
    {
      "cell_type": "markdown",
      "metadata": {
        "id": "0QR_G5u7ZLSM"
      },
      "source": [
        "### **Training the ANN on the Training set**"
      ]
    },
    {
      "cell_type": "code",
      "metadata": {
        "id": "nHZ-LKv_ZRb3",
        "outputId": "dfebd12d-2917-4d58-c603-6d7f323155bf",
        "colab": {
          "base_uri": "https://localhost:8080/",
          "height": 1000
        }
      },
      "source": [
        "ann.fit(X_train, Y_train, batch_size = 32, epochs = 100)"
      ],
      "execution_count": null,
      "outputs": [
        {
          "output_type": "stream",
          "text": [
            "Epoch 1/100\n",
            "250/250 [==============================] - 0s 900us/step - loss: 0.6060 - accuracy: 0.6891\n",
            "Epoch 2/100\n",
            "250/250 [==============================] - 0s 899us/step - loss: 0.4685 - accuracy: 0.7961\n",
            "Epoch 3/100\n",
            "250/250 [==============================] - 0s 991us/step - loss: 0.4380 - accuracy: 0.8077\n",
            "Epoch 4/100\n",
            "250/250 [==============================] - 0s 1ms/step - loss: 0.4244 - accuracy: 0.8155\n",
            "Epoch 5/100\n",
            "250/250 [==============================] - 0s 906us/step - loss: 0.4179 - accuracy: 0.8183\n",
            "Epoch 6/100\n",
            "250/250 [==============================] - 0s 958us/step - loss: 0.4130 - accuracy: 0.8199\n",
            "Epoch 7/100\n",
            "250/250 [==============================] - 0s 936us/step - loss: 0.4090 - accuracy: 0.8216\n",
            "Epoch 8/100\n",
            "250/250 [==============================] - 0s 930us/step - loss: 0.4058 - accuracy: 0.8219\n",
            "Epoch 9/100\n",
            "250/250 [==============================] - 0s 953us/step - loss: 0.4023 - accuracy: 0.8236\n",
            "Epoch 10/100\n",
            "250/250 [==============================] - 0s 954us/step - loss: 0.3996 - accuracy: 0.8254\n",
            "Epoch 11/100\n",
            "250/250 [==============================] - 0s 957us/step - loss: 0.3967 - accuracy: 0.8246\n",
            "Epoch 12/100\n",
            "250/250 [==============================] - 0s 1ms/step - loss: 0.3936 - accuracy: 0.8263\n",
            "Epoch 13/100\n",
            "250/250 [==============================] - 0s 970us/step - loss: 0.3900 - accuracy: 0.8264\n",
            "Epoch 14/100\n",
            "250/250 [==============================] - 0s 936us/step - loss: 0.3872 - accuracy: 0.8288\n",
            "Epoch 15/100\n",
            "250/250 [==============================] - 0s 928us/step - loss: 0.3841 - accuracy: 0.8290\n",
            "Epoch 16/100\n",
            "250/250 [==============================] - 0s 1ms/step - loss: 0.3812 - accuracy: 0.8299\n",
            "Epoch 17/100\n",
            "250/250 [==============================] - 0s 1ms/step - loss: 0.3785 - accuracy: 0.8324\n",
            "Epoch 18/100\n",
            "250/250 [==============================] - 0s 972us/step - loss: 0.3770 - accuracy: 0.8314\n",
            "Epoch 19/100\n",
            "250/250 [==============================] - 0s 991us/step - loss: 0.3747 - accuracy: 0.8317\n",
            "Epoch 20/100\n",
            "250/250 [==============================] - 0s 1ms/step - loss: 0.3721 - accuracy: 0.8322\n",
            "Epoch 21/100\n",
            "250/250 [==============================] - 0s 1ms/step - loss: 0.3711 - accuracy: 0.8376\n",
            "Epoch 22/100\n",
            "250/250 [==============================] - 0s 967us/step - loss: 0.3696 - accuracy: 0.8436\n",
            "Epoch 23/100\n",
            "250/250 [==============================] - 0s 991us/step - loss: 0.3675 - accuracy: 0.8440\n",
            "Epoch 24/100\n",
            "250/250 [==============================] - 0s 1ms/step - loss: 0.3661 - accuracy: 0.8457\n",
            "Epoch 25/100\n",
            "250/250 [==============================] - 0s 999us/step - loss: 0.3649 - accuracy: 0.8453\n",
            "Epoch 26/100\n",
            "250/250 [==============================] - 0s 945us/step - loss: 0.3638 - accuracy: 0.8470\n",
            "Epoch 27/100\n",
            "250/250 [==============================] - 0s 1ms/step - loss: 0.3621 - accuracy: 0.8508\n",
            "Epoch 28/100\n",
            "250/250 [==============================] - 0s 1ms/step - loss: 0.3617 - accuracy: 0.8491\n",
            "Epoch 29/100\n",
            "250/250 [==============================] - 0s 1ms/step - loss: 0.3607 - accuracy: 0.8486\n",
            "Epoch 30/100\n",
            "250/250 [==============================] - 0s 1ms/step - loss: 0.3595 - accuracy: 0.8496\n",
            "Epoch 31/100\n",
            "250/250 [==============================] - 0s 970us/step - loss: 0.3587 - accuracy: 0.8500\n",
            "Epoch 32/100\n",
            "250/250 [==============================] - 0s 1ms/step - loss: 0.3581 - accuracy: 0.8508\n",
            "Epoch 33/100\n",
            "250/250 [==============================] - 0s 965us/step - loss: 0.3568 - accuracy: 0.8515\n",
            "Epoch 34/100\n",
            "250/250 [==============================] - 0s 969us/step - loss: 0.3564 - accuracy: 0.8521\n",
            "Epoch 35/100\n",
            "250/250 [==============================] - 0s 992us/step - loss: 0.3553 - accuracy: 0.8522\n",
            "Epoch 36/100\n",
            "250/250 [==============================] - 0s 1ms/step - loss: 0.3541 - accuracy: 0.8533\n",
            "Epoch 37/100\n",
            "250/250 [==============================] - 0s 954us/step - loss: 0.3537 - accuracy: 0.8537\n",
            "Epoch 38/100\n",
            "250/250 [==============================] - 0s 990us/step - loss: 0.3535 - accuracy: 0.8537\n",
            "Epoch 39/100\n",
            "250/250 [==============================] - 0s 1ms/step - loss: 0.3527 - accuracy: 0.8534\n",
            "Epoch 40/100\n",
            "250/250 [==============================] - 0s 991us/step - loss: 0.3516 - accuracy: 0.8546\n",
            "Epoch 41/100\n",
            "250/250 [==============================] - 0s 948us/step - loss: 0.3515 - accuracy: 0.8537\n",
            "Epoch 42/100\n",
            "250/250 [==============================] - 0s 945us/step - loss: 0.3506 - accuracy: 0.8546\n",
            "Epoch 43/100\n",
            "250/250 [==============================] - 0s 964us/step - loss: 0.3497 - accuracy: 0.8551\n",
            "Epoch 44/100\n",
            "250/250 [==============================] - 0s 1ms/step - loss: 0.3494 - accuracy: 0.8549\n",
            "Epoch 45/100\n",
            "250/250 [==============================] - 0s 1ms/step - loss: 0.3492 - accuracy: 0.8558\n",
            "Epoch 46/100\n",
            "250/250 [==============================] - 0s 1ms/step - loss: 0.3480 - accuracy: 0.8572\n",
            "Epoch 47/100\n",
            "250/250 [==============================] - 0s 982us/step - loss: 0.3477 - accuracy: 0.8580\n",
            "Epoch 48/100\n",
            "250/250 [==============================] - 0s 989us/step - loss: 0.3477 - accuracy: 0.8558\n",
            "Epoch 49/100\n",
            "250/250 [==============================] - 0s 976us/step - loss: 0.3471 - accuracy: 0.8570\n",
            "Epoch 50/100\n",
            "250/250 [==============================] - 0s 980us/step - loss: 0.3467 - accuracy: 0.8574\n",
            "Epoch 51/100\n",
            "250/250 [==============================] - 0s 982us/step - loss: 0.3462 - accuracy: 0.8575\n",
            "Epoch 52/100\n",
            "250/250 [==============================] - 0s 1ms/step - loss: 0.3456 - accuracy: 0.8579\n",
            "Epoch 53/100\n",
            "250/250 [==============================] - 0s 1ms/step - loss: 0.3458 - accuracy: 0.8587\n",
            "Epoch 54/100\n",
            "250/250 [==============================] - 0s 985us/step - loss: 0.3454 - accuracy: 0.8585\n",
            "Epoch 55/100\n",
            "250/250 [==============================] - 0s 1ms/step - loss: 0.3441 - accuracy: 0.8594\n",
            "Epoch 56/100\n",
            "250/250 [==============================] - 0s 941us/step - loss: 0.3434 - accuracy: 0.8574\n",
            "Epoch 57/100\n",
            "250/250 [==============================] - 0s 957us/step - loss: 0.3444 - accuracy: 0.8593\n",
            "Epoch 58/100\n",
            "250/250 [==============================] - 0s 1ms/step - loss: 0.3438 - accuracy: 0.8572\n",
            "Epoch 59/100\n",
            "250/250 [==============================] - 0s 1ms/step - loss: 0.3432 - accuracy: 0.8579\n",
            "Epoch 60/100\n",
            "250/250 [==============================] - 0s 1ms/step - loss: 0.3424 - accuracy: 0.8593\n",
            "Epoch 61/100\n",
            "250/250 [==============================] - 0s 1ms/step - loss: 0.3427 - accuracy: 0.8602\n",
            "Epoch 62/100\n",
            "250/250 [==============================] - 0s 995us/step - loss: 0.3421 - accuracy: 0.8576\n",
            "Epoch 63/100\n",
            "250/250 [==============================] - 0s 1ms/step - loss: 0.3420 - accuracy: 0.8571\n",
            "Epoch 64/100\n",
            "250/250 [==============================] - 0s 1ms/step - loss: 0.3422 - accuracy: 0.8593\n",
            "Epoch 65/100\n",
            "250/250 [==============================] - 0s 1ms/step - loss: 0.3422 - accuracy: 0.8599\n",
            "Epoch 66/100\n",
            "250/250 [==============================] - 0s 965us/step - loss: 0.3421 - accuracy: 0.8590\n",
            "Epoch 67/100\n",
            "250/250 [==============================] - 0s 1ms/step - loss: 0.3415 - accuracy: 0.8580\n",
            "Epoch 68/100\n",
            "250/250 [==============================] - 0s 1ms/step - loss: 0.3418 - accuracy: 0.8595\n",
            "Epoch 69/100\n",
            "250/250 [==============================] - 0s 1ms/step - loss: 0.3410 - accuracy: 0.8608\n",
            "Epoch 70/100\n",
            "250/250 [==============================] - 0s 1ms/step - loss: 0.3409 - accuracy: 0.8596\n",
            "Epoch 71/100\n",
            "250/250 [==============================] - 0s 1ms/step - loss: 0.3408 - accuracy: 0.8604\n",
            "Epoch 72/100\n",
            "250/250 [==============================] - 0s 1ms/step - loss: 0.3402 - accuracy: 0.8577\n",
            "Epoch 73/100\n",
            "250/250 [==============================] - 0s 1ms/step - loss: 0.3398 - accuracy: 0.8591\n",
            "Epoch 74/100\n",
            "250/250 [==============================] - 0s 1ms/step - loss: 0.3398 - accuracy: 0.8576\n",
            "Epoch 75/100\n",
            "250/250 [==============================] - 0s 950us/step - loss: 0.3397 - accuracy: 0.8602\n",
            "Epoch 76/100\n",
            "250/250 [==============================] - 0s 1ms/step - loss: 0.3394 - accuracy: 0.8614\n",
            "Epoch 77/100\n",
            "250/250 [==============================] - 0s 1ms/step - loss: 0.3397 - accuracy: 0.8589\n",
            "Epoch 78/100\n",
            "250/250 [==============================] - 0s 1ms/step - loss: 0.3391 - accuracy: 0.8601\n",
            "Epoch 79/100\n",
            "250/250 [==============================] - 0s 964us/step - loss: 0.3390 - accuracy: 0.8593\n",
            "Epoch 80/100\n",
            "250/250 [==============================] - 0s 1ms/step - loss: 0.3382 - accuracy: 0.8618\n",
            "Epoch 81/100\n",
            "250/250 [==============================] - 0s 1ms/step - loss: 0.3381 - accuracy: 0.8599\n",
            "Epoch 82/100\n",
            "250/250 [==============================] - 0s 1ms/step - loss: 0.3384 - accuracy: 0.8616\n",
            "Epoch 83/100\n",
            "250/250 [==============================] - 0s 1ms/step - loss: 0.3378 - accuracy: 0.8609\n",
            "Epoch 84/100\n",
            "250/250 [==============================] - 0s 964us/step - loss: 0.3380 - accuracy: 0.8609\n",
            "Epoch 85/100\n",
            "250/250 [==============================] - 0s 1000us/step - loss: 0.3377 - accuracy: 0.8626\n",
            "Epoch 86/100\n",
            "250/250 [==============================] - 0s 1ms/step - loss: 0.3369 - accuracy: 0.8619\n",
            "Epoch 87/100\n",
            "250/250 [==============================] - 0s 1ms/step - loss: 0.3369 - accuracy: 0.8625\n",
            "Epoch 88/100\n",
            "250/250 [==============================] - 0s 989us/step - loss: 0.3368 - accuracy: 0.8619\n",
            "Epoch 89/100\n",
            "250/250 [==============================] - 0s 1ms/step - loss: 0.3361 - accuracy: 0.8630\n",
            "Epoch 90/100\n",
            "250/250 [==============================] - 0s 1ms/step - loss: 0.3364 - accuracy: 0.8612\n",
            "Epoch 91/100\n",
            "250/250 [==============================] - 0s 1ms/step - loss: 0.3364 - accuracy: 0.8660\n",
            "Epoch 92/100\n",
            "250/250 [==============================] - 0s 1ms/step - loss: 0.3366 - accuracy: 0.8610\n",
            "Epoch 93/100\n",
            "250/250 [==============================] - 0s 1ms/step - loss: 0.3356 - accuracy: 0.8616\n",
            "Epoch 94/100\n",
            "250/250 [==============================] - 0s 1ms/step - loss: 0.3356 - accuracy: 0.8600\n",
            "Epoch 95/100\n",
            "250/250 [==============================] - 0s 1ms/step - loss: 0.3355 - accuracy: 0.8624\n",
            "Epoch 96/100\n",
            "250/250 [==============================] - 0s 1ms/step - loss: 0.3354 - accuracy: 0.8619\n",
            "Epoch 97/100\n",
            "250/250 [==============================] - 0s 999us/step - loss: 0.3352 - accuracy: 0.8619\n",
            "Epoch 98/100\n",
            "250/250 [==============================] - 0s 1ms/step - loss: 0.3356 - accuracy: 0.8624\n",
            "Epoch 99/100\n",
            "250/250 [==============================] - 0s 969us/step - loss: 0.3348 - accuracy: 0.8618\n",
            "Epoch 100/100\n",
            "250/250 [==============================] - 0s 999us/step - loss: 0.3350 - accuracy: 0.8621\n"
          ],
          "name": "stdout"
        },
        {
          "output_type": "execute_result",
          "data": {
            "text/plain": [
              "<tensorflow.python.keras.callbacks.History at 0x7f1150d627b8>"
            ]
          },
          "metadata": {
            "tags": []
          },
          "execution_count": 46
        }
      ]
    },
    {
      "cell_type": "markdown",
      "metadata": {
        "id": "tJj5k2MxZga3"
      },
      "source": [
        "## **Part 4 - Making the predictions and evaluating the model**"
      ]
    },
    {
      "cell_type": "markdown",
      "metadata": {
        "id": "u7yx47jPZt11"
      },
      "source": [
        "### **Predicting the Test set results**"
      ]
    },
    {
      "cell_type": "code",
      "metadata": {
        "id": "nIyEeQdRZwgs",
        "outputId": "1b7fb723-e071-48e2-8be4-cb578e669f95",
        "colab": {
          "base_uri": "https://localhost:8080/"
        }
      },
      "source": [
        "y_pred = ann.predict(X_test)\n",
        "y_pred = (y_pred > 0.5)\n",
        "print(np.concatenate((y_pred.reshape(len(y_pred),1), Y_test.reshape(len(Y_test),1)),1))"
      ],
      "execution_count": null,
      "outputs": [
        {
          "output_type": "stream",
          "text": [
            "[[0 0]\n",
            " [0 1]\n",
            " [0 0]\n",
            " ...\n",
            " [0 0]\n",
            " [0 0]\n",
            " [0 0]]\n"
          ],
          "name": "stdout"
        }
      ]
    },
    {
      "cell_type": "markdown",
      "metadata": {
        "id": "o0oyfLWoaEGw"
      },
      "source": [
        "### **Making the Confusion Matrix**"
      ]
    },
    {
      "cell_type": "code",
      "metadata": {
        "id": "ci6K_r6LaF6P",
        "outputId": "58db47b8-4dee-46ce-800c-a01e8c0b4994",
        "colab": {
          "base_uri": "https://localhost:8080/",
          "height": 67
        }
      },
      "source": [
        "from sklearn.metrics import confusion_matrix, accuracy_score\n",
        "cm = confusion_matrix(Y_test, y_pred)\n",
        "print(cm)\n",
        "accuracy_score(Y_test, y_pred)"
      ],
      "execution_count": null,
      "outputs": [
        {
          "output_type": "stream",
          "text": [
            "[[1511   84]\n",
            " [ 202  203]]\n"
          ],
          "name": "stdout"
        },
        {
          "output_type": "execute_result",
          "data": {
            "text/plain": [
              "0.857"
            ]
          },
          "metadata": {
            "tags": []
          },
          "execution_count": 48
        }
      ]
    },
    {
      "cell_type": "markdown",
      "metadata": {
        "id": "84QFoqGYeXHL"
      },
      "source": [
        "### **Predicting the result of a single observation**"
      ]
    },
    {
      "cell_type": "code",
      "metadata": {
        "id": "2d8IoCCkeWGL",
        "outputId": "f05f4769-68fb-41ec-f653-0c0252696d1d",
        "colab": {
          "base_uri": "https://localhost:8080/",
          "height": 34
        }
      },
      "source": [
        "print(ann.predict(sc.transform([[1, 0, 0, 600, 1, 40, 3, 60000, 2, 1, 1, 50000]])) > 0.5)"
      ],
      "execution_count": null,
      "outputs": [
        {
          "output_type": "stream",
          "text": [
            "[[False]]\n"
          ],
          "name": "stdout"
        }
      ]
    }
  ]
}